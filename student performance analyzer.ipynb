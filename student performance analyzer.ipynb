{
  "nbformat": 4,
  "nbformat_minor": 0,
  "metadata": {
    "colab": {
      "provenance": []
    },
    "kernelspec": {
      "name": "python3",
      "display_name": "Python 3"
    },
    "language_info": {
      "name": "python"
    }
  },
  "cells": [
    {
      "cell_type": "code",
      "execution_count": 2,
      "metadata": {
        "id": "mkKpdon_O0Xy"
      },
      "outputs": [],
      "source": []
    },
    {
      "cell_type": "code",
      "source": [
        "def analyze_student():\n",
        "    name = input(\"Enter student's name: \")\n",
        "    marks = []\n",
        "\n",
        "    # Get 3 subject marks\n",
        "    for i in range(5):\n",
        "        mark = int(input(f\"Enter mark {i+1}: \"))\n",
        "        marks.append(mark)\n",
        "\n",
        "    total = sum(marks)\n",
        "    average = total / len(marks)\n",
        "\n",
        "    print(f\"\\nStudent: {name}\")\n",
        "    print(\"Marks:\", marks)\n",
        "    print(\"Total:\", total)\n",
        "    print(\"Average:\", average)\n",
        "\n",
        "    if average >= 50:\n",
        "        print(\"Result: Pass\")\n",
        "    else:\n",
        "        print(\"Result: Fail\")\n",
        "\n",
        "analyze_student()\n",
        "\n"
      ],
      "metadata": {
        "colab": {
          "base_uri": "https://localhost:8080/"
        },
        "id": "JsNjaSAXO2IL",
        "outputId": "07ab4904-c3ff-43da-9563-8ffa2f8e2a60"
      },
      "execution_count": 3,
      "outputs": [
        {
          "output_type": "stream",
          "name": "stdout",
          "text": [
            "Enter student's name: komal\n",
            "Enter mark 1: 88\n",
            "Enter mark 2: 80\n",
            "Enter mark 3: 60\n",
            "Enter mark 4: 72\n",
            "Enter mark 5: 87\n",
            "\n",
            "Student: komal\n",
            "Marks: [88, 80, 60, 72, 87]\n",
            "Total: 387\n",
            "Average: 77.4\n",
            "Result: Pass\n"
          ]
        }
      ]
    }
  ]
}